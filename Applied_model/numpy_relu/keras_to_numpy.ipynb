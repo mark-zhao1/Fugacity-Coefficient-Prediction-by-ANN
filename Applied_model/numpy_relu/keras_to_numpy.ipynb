{
 "cells": [
  {
   "cell_type": "code",
   "execution_count": 31,
   "metadata": {},
   "outputs": [],
   "source": [
    "'''\n",
    "Write numpy LeakyReLu for use in ANN acceleration\n",
    "Tensorflor model.predict is too slow bc it uses tensors optimized for batch predictions\n",
    "\n",
    "How to use:\n",
    "    Set modelPath as the directory containing the saved_model.pb file\n",
    "    Set loaded_model name\n",
    "\n",
    "'''\n",
    "\n",
    "import konverter\n",
    "import tensorflow as tf\n",
    "import os\n",
    "import numpy as np\n",
    "\n"
   ]
  },
  {
   "cell_type": "code",
   "execution_count": 32,
   "metadata": {},
   "outputs": [],
   "source": [
    "modelPath = r'C:\\Users\\win7\\Desktop\\logs\\logs\\scalars\\lnphi_nC4_T300-600_P5-100__100_4_20_100_20200916-112226'\n",
    "tempname='lnphi_nC4_T300-600_P5-100__100_4_20_100_20200916-112226'\n",
    "\n",
    "# Load\n",
    "loaded_model = tf.keras.models.load_model(modelPath)\n",
    "\n"
   ]
  },
  {
   "cell_type": "code",
   "execution_count": 55,
   "metadata": {},
   "outputs": [],
   "source": [
    "# Re-save as .h5 in current directory\n",
    "\n",
    "loaded_model.save(tempname+'.h5', save_format='h5')"
   ]
  },
  {
   "cell_type": "code",
   "execution_count": 56,
   "metadata": {},
   "outputs": [
    {
     "name": "stdout",
     "output_type": "stream",
     "text": [
      "\u001b[92m\n",
      "Successfully got model architecture! 😄\n",
      "\u001b[0m\u001b[37m\n",
      "\u001b[38;5;220mLayers:\u001b[0m\u001b[37m\n",
      "  \u001b[38;5;74mname: dense\u001b[0m\u001b[37m\n",
      "  \u001b[38;5;205mactivation: LeakyReLU\u001b[0m\u001b[37m\n",
      "  \u001b[38;5;135mshape: (4, 20)\u001b[0m\u001b[37m\u001b[38;5;119m\n",
      " =======================\n",
      "\u001b[0m\u001b[37m  \u001b[38;5;74mname: dense\u001b[0m\u001b[37m\n",
      "  \u001b[38;5;205mactivation: LeakyReLU\u001b[0m\u001b[37m\n",
      "  \u001b[38;5;135mshape: (20, 20)\u001b[0m\u001b[37m\u001b[38;5;119m\n",
      " =======================\n",
      "\u001b[0m\u001b[37m  \u001b[38;5;74mname: dense\u001b[0m\u001b[37m\n",
      "  \u001b[38;5;205mactivation: LeakyReLU\u001b[0m\u001b[37m\n",
      "  \u001b[38;5;135mshape: (20, 20)\u001b[0m\u001b[37m\u001b[38;5;119m\n",
      " =======================\n",
      "\u001b[0m\u001b[37m  \u001b[38;5;74mname: dense\u001b[0m\u001b[37m\n",
      "  \u001b[38;5;205mactivation: LeakyReLU\u001b[0m\u001b[37m\n",
      "  \u001b[38;5;135mshape: (20, 20)\u001b[0m\u001b[37m\u001b[38;5;119m\n",
      " =======================\n",
      "\u001b[0m\u001b[37m  \u001b[38;5;74mname: dense\u001b[0m\u001b[37m\n",
      "  \u001b[38;5;135mshape: (20, 1)\u001b[0m\u001b[37m\n",
      "\u001b[0m\u001b[37m\u001b[38;5;220m\n",
      "🔨 Now building pure Python + NumPy model...\u001b[0m\u001b[37m\n",
      "\u001b[92m🙌 Saved Konverted model!\u001b[0m\u001b[37m\n",
      "\u001b[92mOutput model file: C:/Users/win7/PycharmProjects/Ln_phi_model/Applied_model/numpy_relu/lnphi_nC4_T300-600_P5-100__100_4_20_100_20200916-112226_Konverted.py\u001b[0m\u001b[37m\n",
      "\u001b[92mWeights and biases file: C:/Users/win7/PycharmProjects/Ln_phi_model/Applied_model/numpy_relu/lnphi_nC4_T300-600_P5-100__100_4_20_100_20200916-112226_Konverted_weights.npz\u001b[0m\u001b[37m\n",
      "\u001b[38;5;220m\n",
      "❗ Make sure to change the path inside the wrapper file to your weights if you move the file elsewhere.\u001b[0m\u001b[37m\n"
     ]
    },
    {
     "data": {
      "text/plain": [
       "<konverter.Konverter at 0x1bc413a05c8>"
      ]
     },
     "execution_count": 56,
     "metadata": {},
     "output_type": "execute_result"
    }
   ],
   "source": [
    "# Convert\n",
    "\n",
    "konverter.konvert(tempname+'.h5',\n",
    "                  output_file=os.getcwd()+'\\\\'+tempname+'_Konverted')"
   ]
  },
  {
   "cell_type": "markdown",
   "metadata": {},
   "source": [
    "## Testing"
   ]
  },
  {
   "cell_type": "code",
   "execution_count": 23,
   "metadata": {},
   "outputs": [],
   "source": [
    "wb = np.load(r'C:\\Users\\win7\\PycharmProjects\\Ln_phi_model\\Applied_model\\numpy_relu\\lnphi_nC10_T300-600_P5-100__100_4_20_100_20200915-230243\\lnphi_nC10_T300-600_P5-100__100_4_20_100_20200915-230243_Konverted_weights.npz',\n",
    "             allow_pickle=True)\n",
    "w, b = wb['wb']\n",
    "\n",
    "def predict(x,w,b):\n",
    "    #x = np.array(x, dtype=np.float32)\n",
    "    l0 = np.dot(x, w[0]) + b[0]\n",
    "    l0 = np.where(l0 > 0, l0, l0 * 0.1)\n",
    "    l1 = np.dot(l0, w[1]) + b[1]\n",
    "    l1 = np.where(l1 > 0, l1, l1 * 0.1)\n",
    "    l2 = np.dot(l1, w[2]) + b[2]\n",
    "    l2 = np.where(l2 > 0, l2, l2 * 0.1)\n",
    "    l3 = np.dot(l2, w[3]) + b[3]\n",
    "    l3 = np.where(l3 > 0, l3, l3 * 0.1)\n",
    "    l4 = np.dot(l3, w[4]) + b[4]\n",
    "    return l4\n"
   ]
  },
  {
   "cell_type": "code",
   "execution_count": 33,
   "metadata": {},
   "outputs": [
    {
     "data": {
      "text/plain": [
       "array([0.75913244], dtype=float32)"
      ]
     },
     "execution_count": 33,
     "metadata": {},
     "output_type": "execute_result"
    }
   ],
   "source": [
    "# Verify exactly same prediction \n",
    "true_val = 0.72913244\n",
    "X_prepared_nC10 = np.array([0.096363940, 0.231393959, 0.228188976, 0.098272932], dtype=np.float32)\n",
    "y_hat_nC10 = predict(X_prepared_nC10,w,b)\n",
    "y_hat_nC10\n"
   ]
  },
  {
   "cell_type": "code",
   "execution_count": 25,
   "metadata": {},
   "outputs": [
    {
     "name": "stdout",
     "output_type": "stream",
     "text": [
      "37 µs ± 135 ns per loop (mean ± std. dev. of 7 runs, 10000 loops each)\n"
     ]
    }
   ],
   "source": [
    "%timeit predict(X_prepared_nC10,w,b)"
   ]
  },
  {
   "cell_type": "markdown",
   "metadata": {},
   "source": [
    "## Normalization with numpy\n",
    "Extract the min-max values stored in the pipeline.  \n",
    "    \n",
    "    pr.attr_full_pipeline_nC4.named_transformers_.num.named_steps.min_max_scaler.data_min_\n",
    "    Out[37]: array([0.01831612, 0.006697  , 0.006697  , 0.01831612])\n",
    "    pr.attr_full_pipeline_nC4.named_transformers_.num.named_steps.min_max_scaler.data_max_\n",
    "    Out[38]: array([15.97685643,  0.75642223,  0.29020326,  6.85400705])\n",
    "    "
   ]
  },
  {
   "cell_type": "markdown",
   "metadata": {},
   "source": [
    "# Test speedup with numba"
   ]
  },
  {
   "cell_type": "code",
   "execution_count": 26,
   "metadata": {},
   "outputs": [],
   "source": [
    "from numba import jit"
   ]
  },
  {
   "cell_type": "code",
   "execution_count": 35,
   "metadata": {},
   "outputs": [],
   "source": [
    "@jit(nopython=True)\n",
    "def predict_numba(x):#predict_numba(x,w0,w1,w2,w3,w4,b0,b1,b2,b3,b4)\n",
    "    #x = np.array(x, dtype=np.float32)\n",
    "    l0 = np.dot(x, w0) + b0\n",
    "    l0 = np.where(l0 > 0, l0, l0 * 0.1)\n",
    "    l1 = np.dot(l0, w1) + b1\n",
    "    l1 = np.where(l1 > 0, l1, l1 * 0.1)\n",
    "    l2 = np.dot(l1, w2) + b2\n",
    "    l2 = np.where(l2 > 0, l2, l2 * 0.1)\n",
    "    l3 = np.dot(l2, w3) + b3\n",
    "    l3 = np.where(l3 > 0, l3, l3 * 0.1)\n",
    "    l4 = np.dot(l3, w4) + b4\n",
    "    return l4"
   ]
  },
  {
   "cell_type": "code",
   "execution_count": 36,
   "metadata": {},
   "outputs": [],
   "source": [
    "w0 = w[0].astype('float64')\n",
    "w1 = w[1].astype('float64')\n",
    "w2 = w[2].astype('float64')\n",
    "w3 = w[3].astype('float64')\n",
    "w4 = w[4].astype('float64')\n",
    "\n",
    "b0 = b[0].astype('float64')\n",
    "b1 = b[1].astype('float64')\n",
    "b2 = b[2].astype('float64')\n",
    "b3 = b[3].astype('float64')\n",
    "b4 = b[4].astype('float64')\n",
    "\n",
    "X_prepared_nC10 = np.array([0.096363940, 0.231393959, 0.228188976, 0.098272932], dtype=np.float64)"
   ]
  },
  {
   "cell_type": "code",
   "execution_count": 40,
   "metadata": {},
   "outputs": [
    {
     "name": "stdout",
     "output_type": "stream",
     "text": [
      "4.11 µs ± 8.04 ns per loop (mean ± std. dev. of 7 runs, 100000 loops each)\n"
     ]
    }
   ],
   "source": [
    "%timeit predict_numba(X_prepared_nC10)"
   ]
  },
  {
   "cell_type": "code",
   "execution_count": 30,
   "metadata": {},
   "outputs": [
    {
     "name": "stdout",
     "output_type": "stream",
     "text": [
      "6.25 µs ± 18.6 ns per loop (mean ± std. dev. of 7 runs, 100000 loops each)\n"
     ]
    }
   ],
   "source": [
    "%timeit predict_numba(X_prepared_nC10,w0,w1,w2,w3,w4,b0,b1,b2,b3,b4)"
   ]
  },
  {
   "cell_type": "code",
   "execution_count": 29,
   "metadata": {},
   "outputs": [
    {
     "data": {
      "text/plain": [
       "array([0.75913245])"
      ]
     },
     "execution_count": 29,
     "metadata": {},
     "output_type": "execute_result"
    }
   ],
   "source": [
    "predict_numba(X_prepared_nC10,w0,w1,w2,w3,w4,b0,b1,b2,b3,b4)"
   ]
  },
  {
   "cell_type": "code",
   "execution_count": 133,
   "metadata": {},
   "outputs": [],
   "source": [
    "l0 = np.dot(X_prepared_nC10, w0) + b0\n",
    "l0 = np.where(l0 > 0, l0, l0 * 0.1)\n",
    "l1 = np.dot(l0, w1) + b1"
   ]
  },
  {
   "cell_type": "code",
   "execution_count": 138,
   "metadata": {},
   "outputs": [
    {
     "data": {
      "text/plain": [
       "dtype('float32')"
      ]
     },
     "execution_count": 138,
     "metadata": {},
     "output_type": "execute_result"
    }
   ],
   "source": [
    "l0.dtype"
   ]
  },
  {
   "cell_type": "code",
   "execution_count": 141,
   "metadata": {},
   "outputs": [],
   "source": [
    "@jit(nopython=True)\n",
    "def predict_numba2(x,w0,w1,w2,w3,w4,b0,b1,b2,b3,b4):\n",
    "    #x = np.array(x, dtype=np.float32)\n",
    "    l0 = np.dot(x, w0) + b0\n",
    "    print(l0.dtype)\n",
    "    l0 = np.where(l0 > 0, l0, l0 * 0.1)\n",
    "    print(l0.dtype)\n",
    "    return"
   ]
  },
  {
   "cell_type": "code",
   "execution_count": 143,
   "metadata": {},
   "outputs": [
    {
     "name": "stdout",
     "output_type": "stream",
     "text": [
      "float32\n",
      "float64\n"
     ]
    }
   ],
   "source": [
    "predict_numba2(X_prepared_nC10,w0,w1,w2,w3,w4,b0,b1,b2,b3,b4)"
   ]
  },
  {
   "cell_type": "code",
   "execution_count": 81,
   "metadata": {},
   "outputs": [],
   "source": [
    "x = np.array([1,2,3], dtype=np.float32)\n",
    "y = np.array([-1, -2, -3], dtype=np.float32)"
   ]
  },
  {
   "cell_type": "code",
   "execution_count": 82,
   "metadata": {},
   "outputs": [
    {
     "name": "stdout",
     "output_type": "stream",
     "text": [
      "[0. 0. 0.]\n"
     ]
    }
   ],
   "source": [
    "ans = func(x,y)"
   ]
  },
  {
   "cell_type": "code",
   "execution_count": 83,
   "metadata": {},
   "outputs": [
    {
     "data": {
      "text/plain": [
       "dtype('float32')"
      ]
     },
     "execution_count": 83,
     "metadata": {},
     "output_type": "execute_result"
    }
   ],
   "source": [
    "ans.dtype"
   ]
  },
  {
   "cell_type": "code",
   "execution_count": 13,
   "metadata": {},
   "outputs": [
    {
     "data": {
      "text/plain": [
       "(4, 20)"
      ]
     },
     "execution_count": 13,
     "metadata": {},
     "output_type": "execute_result"
    }
   ],
   "source": [
    "w[0].shape"
   ]
  },
  {
   "cell_type": "code",
   "execution_count": 102,
   "metadata": {},
   "outputs": [],
   "source": [
    "ww = np.concatenate((w[1], w[2]), axis=0)"
   ]
  },
  {
   "cell_type": "code",
   "execution_count": 103,
   "metadata": {},
   "outputs": [
    {
     "data": {
      "text/plain": [
       "(40, 20)"
      ]
     },
     "execution_count": 103,
     "metadata": {},
     "output_type": "execute_result"
    }
   ],
   "source": [
    "ww.shape"
   ]
  },
  {
   "cell_type": "code",
   "execution_count": 104,
   "metadata": {},
   "outputs": [
    {
     "data": {
      "text/plain": [
       "(20, 20)"
      ]
     },
     "execution_count": 104,
     "metadata": {},
     "output_type": "execute_result"
    }
   ],
   "source": [
    "w[1].shape"
   ]
  },
  {
   "cell_type": "code",
   "execution_count": 108,
   "metadata": {},
   "outputs": [
    {
     "data": {
      "text/plain": [
       "array([-0.37685478, -0.84386986,  0.7242062 , -1.6956679 , -0.25299639,\n",
       "       -0.21747477,  0.3012555 , -3.76763   ,  0.31904596, -3.0864134 ,\n",
       "       -0.6804349 , -0.58764225, -2.0279973 , -0.28296712, -3.415852  ,\n",
       "       -0.24605446, -0.13039353, -0.27876443, -2.1728024 , -4.8867693 ],\n",
       "      dtype=float32)"
      ]
     },
     "execution_count": 108,
     "metadata": {},
     "output_type": "execute_result"
    }
   ],
   "source": [
    "ww[0][:]"
   ]
  },
  {
   "cell_type": "code",
   "execution_count": 107,
   "metadata": {},
   "outputs": [
    {
     "data": {
      "text/plain": [
       "array([[-3.76854777e-01, -8.43869865e-01,  7.24206209e-01,\n",
       "        -1.69566786e+00, -2.52996385e-01, -2.17474774e-01,\n",
       "         3.01255494e-01, -3.76763010e+00,  3.19045961e-01,\n",
       "        -3.08641338e+00, -6.80434883e-01, -5.87642252e-01,\n",
       "        -2.02799726e+00, -2.82967120e-01, -3.41585207e+00,\n",
       "        -2.46054456e-01, -1.30393535e-01, -2.78764427e-01,\n",
       "        -2.17280245e+00, -4.88676929e+00],\n",
       "       [ 4.76061910e-01, -1.07669973e+00,  8.18186104e-02,\n",
       "        -1.48979485e-01, -6.67059183e-01,  1.26703858e-01,\n",
       "         9.60837305e-01, -3.05824041e-01, -2.49848336e-01,\n",
       "        -2.71173298e-01,  1.89209253e-01,  8.34952176e-01,\n",
       "        -2.91873187e-01,  1.18913971e-01, -1.37842512e+00,\n",
       "         2.24435434e-01, -2.05970377e-01,  1.42789751e-01,\n",
       "        -3.93448234e-01,  6.44974336e-02],\n",
       "       [-2.93835258e+00,  8.20785344e-01, -9.94703114e-01,\n",
       "         2.16116476e+00,  7.32618093e-01, -1.40510976e+00,\n",
       "        -4.61102337e-01,  3.94956398e+00, -1.63320935e+00,\n",
       "         2.52106881e+00,  2.05620384e+00,  8.17462564e-01,\n",
       "         2.45105863e+00, -7.47593343e-02,  2.78198195e+00,\n",
       "        -7.95706749e-01, -2.32241964e+00, -6.92815125e-01,\n",
       "         2.64866138e+00,  5.39965534e+00],\n",
       "       [ 2.64325067e-02,  5.23094714e-01, -1.34545928e-02,\n",
       "        -1.05966799e-01,  5.46783447e-01, -6.28094554e-01,\n",
       "        -1.03518583e-01,  3.50874692e-01,  3.94749403e-01,\n",
       "         1.68893188e-01,  1.34346068e-01, -5.20789139e-02,\n",
       "         4.04294938e-01,  9.16928276e-02,  7.05802143e-01,\n",
       "        -3.56655046e-02,  1.20464349e+00,  4.09454942e-01,\n",
       "         1.07559197e-01,  1.04350828e-01],\n",
       "       [-6.90723002e-01, -6.07821763e-01,  4.54105064e-02,\n",
       "        -6.97580576e-02, -1.81128561e-01,  8.76113959e-03,\n",
       "         3.21117043e-01, -2.13986605e-01,  2.68218834e-02,\n",
       "        -6.77347600e-01,  1.24167502e-02, -1.53833210e-01,\n",
       "         3.23638320e-01,  1.02852516e-01, -1.53625906e-01,\n",
       "         1.03097141e-01, -2.17641741e-01, -4.72742736e-01,\n",
       "        -1.72352031e-01, -7.11119235e-01],\n",
       "       [-2.94173980e+00,  3.57940644e-01, -1.17633843e+00,\n",
       "         1.72928393e+00,  9.51589048e-01, -1.38841009e+00,\n",
       "         1.67181715e-01,  1.96967793e+00, -1.89191484e+00,\n",
       "         5.43799996e-01,  1.91789699e+00,  4.29362655e-01,\n",
       "         1.79209995e+00, -7.72242188e-01,  9.52555299e-01,\n",
       "        -1.33275521e+00, -1.77522302e+00, -1.28550872e-01,\n",
       "         1.81441295e+00,  4.09995317e+00],\n",
       "       [-1.07947052e+00,  3.97881699e+00,  6.40411854e-01,\n",
       "        -7.36037612e-01, -1.18610549e+00, -1.52977550e+00,\n",
       "        -2.19590083e-01,  3.64861518e-01,  9.26376402e-01,\n",
       "        -1.68043685e+00,  1.66446829e+00, -1.66093266e+00,\n",
       "        -4.07723570e+00, -4.71197933e-01,  3.13672185e+00,\n",
       "         6.77649915e-01,  1.25021791e+00, -9.43204641e-01,\n",
       "         3.48729461e-01, -2.98546344e-01],\n",
       "       [ 8.52000713e-01,  1.04603589e+00,  1.92239738e+00,\n",
       "        -1.86776310e-01,  3.72324735e-01,  1.75718033e+00,\n",
       "        -6.38157487e-01, -2.60879612e+00, -2.30519485e+00,\n",
       "        -1.07307100e+00, -2.49297571e+00, -3.60956168e+00,\n",
       "         7.88992569e-02, -3.62434101e+00, -1.71621621e+00,\n",
       "         6.07040346e-01, -1.07355475e+00,  3.47023106e+00,\n",
       "        -1.56330931e+00, -2.60848427e+00],\n",
       "       [ 8.10025394e-01,  1.27563357e+00,  5.81537187e-01,\n",
       "        -7.63044000e-01,  2.63342452e+00, -6.28753543e-01,\n",
       "        -5.56428432e-01,  2.34080836e-01, -1.95602968e-01,\n",
       "         8.32714498e-01,  4.78475913e-02,  1.49601445e-01,\n",
       "         1.63970673e+00, -5.75359762e-01,  2.69141459e+00,\n",
       "         2.14570236e+00,  4.41765010e-01,  9.48387444e-01,\n",
       "        -3.08329105e-01,  1.56818926e+00],\n",
       "       [-1.78635788e+00, -4.43826675e-01, -1.08938888e-01,\n",
       "         1.57169327e-01,  1.17654711e-01,  2.09157728e-02,\n",
       "         1.86905432e-02, -4.77743968e-02, -3.12121898e-01,\n",
       "         8.96531120e-02,  1.36535391e-01, -1.58694878e-01,\n",
       "         1.04459596e+00,  4.45731699e-01,  1.09581389e-01,\n",
       "        -4.03141886e-01, -1.17166555e+00, -2.02095620e-02,\n",
       "        -9.55937654e-02, -1.83446705e-01],\n",
       "       [ 1.29026204e-01, -3.56108963e-01, -2.28597060e-01,\n",
       "        -8.85378942e-02, -4.55525704e-02, -1.91518709e-01,\n",
       "         8.81090462e-02, -5.41403070e-02, -2.03358367e-01,\n",
       "        -2.77324300e-02,  2.59229969e-02, -1.18112817e-01,\n",
       "         3.37946489e-02,  2.60725357e-02, -2.19472215e-01,\n",
       "        -4.17101197e-02,  2.03422546e-01, -3.11812133e-01,\n",
       "        -1.08738787e-01, -3.02561652e-02],\n",
       "       [-1.01419151e+00,  6.78836167e-01,  6.10384226e-01,\n",
       "         3.31396133e-01, -3.69175404e-01,  8.67449567e-02,\n",
       "        -9.38594043e-01,  1.48063421e-01, -9.90917444e-01,\n",
       "        -1.59106448e-01,  1.40517741e-01, -2.83729434e+00,\n",
       "        -2.50117970e+00, -1.58773255e+00,  7.58385181e-01,\n",
       "         5.09636402e-01, -4.33197141e-01, -1.25453491e-02,\n",
       "         6.32645115e-02,  9.49264020e-02],\n",
       "       [ 9.35409307e-01, -2.85659480e+00, -7.79717088e-01,\n",
       "         1.02349925e+00,  1.28091824e+00, -2.53484458e-01,\n",
       "        -1.82963824e+00,  6.27603233e-01, -1.23360373e-01,\n",
       "         4.90616798e-01,  5.94601750e-01,  2.31101766e-01,\n",
       "        -3.59826994e+00,  5.22145569e-01, -6.50523961e-01,\n",
       "        -1.74614012e+00,  3.30285877e-02, -1.13251746e+00,\n",
       "         3.84666085e-01,  5.73098600e-01],\n",
       "       [-1.19837299e-01, -4.86818343e-01, -5.71028650e-01,\n",
       "         1.49074781e+00,  7.17379391e-01,  2.17397571e+00,\n",
       "        -2.46430874e-01,  2.13554549e+00, -8.49184871e-01,\n",
       "         9.63522553e-01,  1.24322045e+00, -5.25369262e-03,\n",
       "         1.06139696e+00,  1.05380870e-01,  2.80923772e+00,\n",
       "        -3.12499609e-02, -1.37905908e+00,  4.71274436e-01,\n",
       "         2.06157160e+00,  1.01260364e+00],\n",
       "       [-3.20655555e-01,  8.20555866e-01, -1.01345885e+00,\n",
       "         1.03216505e+00,  6.16599262e-01, -2.14390540e+00,\n",
       "        -6.16094530e-01, -4.97443199e-01,  8.27561736e-01,\n",
       "         9.49924648e-01, -1.46407950e+00, -1.59321111e-02,\n",
       "         1.59749597e-01,  4.81660306e-01, -2.31382108e+00,\n",
       "        -5.29091656e-01, -1.13644592e-01,  1.02339113e+00,\n",
       "        -1.16901588e+00,  1.14972222e+00],\n",
       "       [-2.02008128e+00, -1.49693400e-01,  1.47335917e-01,\n",
       "         5.25607988e-02, -1.83916181e-01, -4.04233187e-02,\n",
       "         2.27257863e-01,  6.29616231e-02,  1.92542210e-01,\n",
       "         5.69979250e-02,  1.67270117e-02, -2.48700991e-01,\n",
       "        -1.00771213e+00, -2.14560315e-01, -2.10142875e+00,\n",
       "         5.39085448e-01, -7.15169311e-01,  7.82973170e-01,\n",
       "         1.80429146e-02,  7.72789586e-03],\n",
       "       [ 6.77962661e-01, -3.18459719e-01, -3.57473075e-01,\n",
       "         6.08539999e-01,  9.86670911e-01, -1.41527867e+00,\n",
       "        -4.03844655e-01, -1.31365350e-02,  2.60401309e-01,\n",
       "         1.00029707e+00, -1.56647706e+00,  1.20159149e+00,\n",
       "        -2.62907952e-01,  2.41403520e-01, -1.33637774e+00,\n",
       "        -4.24403369e-01,  2.10223287e-01, -7.95092344e-01,\n",
       "        -5.41122198e-01,  1.07227015e+00],\n",
       "       [-2.98124719e+00,  5.37291765e-01,  1.22878917e-01,\n",
       "        -8.36495496e-03,  1.40719026e-01, -5.57803735e-02,\n",
       "         1.74183007e-02,  2.01206580e-02, -4.32053395e-02,\n",
       "        -1.34569094e-01,  1.75593887e-02,  3.57762843e-01,\n",
       "         2.02573389e-01,  4.76813577e-02,  9.48108375e-01,\n",
       "        -4.21691746e-01, -6.81941092e-01,  5.54227494e-02,\n",
       "         1.08103238e-01, -2.19647616e-01],\n",
       "       [ 1.04883492e+00, -4.79174256e-01,  2.53141731e-01,\n",
       "        -1.44770241e+00,  7.87910104e-01, -3.95213962e-01,\n",
       "        -3.29002053e-01, -1.79424095e+00, -2.87841856e-01,\n",
       "         3.19902802e+00,  2.00617418e-01,  1.14560938e+00,\n",
       "        -6.03224754e-01, -6.40729144e-02,  3.98689795e+00,\n",
       "         3.55106324e-01, -7.91386008e-01,  7.12647319e-01,\n",
       "        -3.07238293e+00,  2.75970173e+00],\n",
       "       [-1.61094479e-02, -8.17462444e-01, -3.64763364e-02,\n",
       "        -4.05727863e-01, -3.67941976e-01,  2.54234433e-01,\n",
       "         1.51157290e-01, -9.94970381e-01,  3.51796806e-01,\n",
       "         1.38930273e+00,  2.35368431e-01, -3.39326233e-01,\n",
       "         6.87231243e-01,  2.30186626e-01,  4.29784924e-01,\n",
       "        -2.28307080e-02, -7.87972748e-01,  4.71501127e-02,\n",
       "        -6.47464275e-01, -8.97721410e-01]], dtype=float32)"
      ]
     },
     "execution_count": 107,
     "metadata": {},
     "output_type": "execute_result"
    }
   ],
   "source": [
    "w[1]"
   ]
  },
  {
   "cell_type": "code",
   "execution_count": null,
   "metadata": {},
   "outputs": [],
   "source": []
  }
 ],
 "metadata": {
  "kernelspec": {
   "display_name": "gputest",
   "language": "python",
   "name": "gputest"
  },
  "language_info": {
   "codemirror_mode": {
    "name": "ipython",
    "version": 3
   },
   "file_extension": ".py",
   "mimetype": "text/x-python",
   "name": "python",
   "nbconvert_exporter": "python",
   "pygments_lexer": "ipython3",
   "version": "3.7.7"
  }
 },
 "nbformat": 4,
 "nbformat_minor": 4
}
