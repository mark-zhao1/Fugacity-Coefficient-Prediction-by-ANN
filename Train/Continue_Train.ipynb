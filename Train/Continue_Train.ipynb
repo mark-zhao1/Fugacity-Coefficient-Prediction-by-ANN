{
 "cells": [
  {
   "cell_type": "code",
   "execution_count": 1,
   "metadata": {},
   "outputs": [],
   "source": [
    "import os\n",
    "import pandas as pd\n",
    "import tensorflow as tf\n",
    "import subprocess\n",
    "import pickle\n",
    "import datetime\n",
    "from tensorflow import keras\n",
    "from sklearn.model_selection import train_test_split\n",
    "from sklearn.pipeline import Pipeline\n",
    "from sklearn.preprocessing import MinMaxScaler\n",
    "from sklearn.compose import ColumnTransformer\n",
    "from train import train_lnphi\n"
   ]
  },
  {
   "cell_type": "code",
   "execution_count": 2,
   "metadata": {},
   "outputs": [
    {
     "name": "stdout",
     "output_type": "stream",
     "text": [
      "Loading done. Shape: (92370000, 5)\n",
      "Drop lnphi out of range done. Shape: (77105153, 5)\n",
      "Splitting done.\n",
      "Feature Eng done.\n"
     ]
    }
   ],
   "source": [
    "# Load and prepare training data\n",
    "LNPHI_PATH = r\"C:\\Users\\markz\\OneDrive\\Documents\\Datasets\"\n",
    "log_save_dir = r\"C:\\Users\\markz\\OneDrive\\Documents\"\n",
    "tr = train_lnphi()\n",
    "tr.load_lnphi_data(LNPHI_PATH)\n",
    "tr.lnphi_range(-50, 50)\n",
    "tr.split_data()\n",
    "tr.feature_eng()"
   ]
  },
  {
   "cell_type": "code",
   "execution_count": 3,
   "metadata": {},
   "outputs": [
    {
     "name": "stdout",
     "output_type": "stream",
     "text": [
      "Model: \"sequential_2\"\n",
      "_________________________________________________________________\n",
      "Layer (type)                 Output Shape              Param #   \n",
      "=================================================================\n",
      "dense_8 (Dense)              (None, 20)                100       \n",
      "_________________________________________________________________\n",
      "dense_9 (Dense)              (None, 20)                420       \n",
      "_________________________________________________________________\n",
      "dense_10 (Dense)             (None, 20)                420       \n",
      "_________________________________________________________________\n",
      "dense_11 (Dense)             (None, 20)                420       \n",
      "_________________________________________________________________\n",
      "dense_12 (Dense)             (None, 20)                420       \n",
      "_________________________________________________________________\n",
      "dense_13 (Dense)             (None, 20)                420       \n",
      "_________________________________________________________________\n",
      "dense_14 (Dense)             (None, 20)                420       \n",
      "_________________________________________________________________\n",
      "dense_15 (Dense)             (None, 20)                420       \n",
      "_________________________________________________________________\n",
      "dense_16 (Dense)             (None, 20)                420       \n",
      "_________________________________________________________________\n",
      "dense_17 (Dense)             (None, 1)                 21        \n",
      "=================================================================\n",
      "Total params: 3,481\n",
      "Trainable params: 3,481\n",
      "Non-trainable params: 0\n",
      "_________________________________________________________________\n"
     ]
    }
   ],
   "source": [
    "# Load model\n",
    "tr.model = tf.keras.models.load_model(\n",
    "    r'C:\\Users\\markz\\OneDrive\\Documents\\logs\\scalars\\1024_8_20_30_20200720-000928\\1024_8_20_30_20200720-023110')\n",
    "tr.model.summary()\n"
   ]
  },
  {
   "cell_type": "code",
   "execution_count": 6,
   "metadata": {},
   "outputs": [
    {
     "name": "stdout",
     "output_type": "stream",
     "text": [
      "Train on 49347297 samples, validate on 12336825 samples\n",
      "Epoch 1/22\n",
      "\n",
      "Epoch 00001: mse improved from inf to 0.10817, saving model to C:\\Users\\markz\\OneDrive\\Documents.\\logs\\scalars\\1500_8_20_22_20200723-200535\n",
      "INFO:tensorflow:Assets written to: C:\\Users\\markz\\OneDrive\\Documents.\\logs\\scalars\\1500_8_20_22_20200723-200535\\assets\n",
      "49347297/49347297 - 216s - loss: 0.1082 - mse: 0.1082 - mae: 0.1405 - mean_absolute_percentage_error: 14.9362 - val_loss: 0.1185 - val_mse: 0.1185 - val_mae: 0.1716 - val_mean_absolute_percentage_error: 15.5278\n",
      "Epoch 2/22\n",
      "\n",
      "Epoch 00002: mse improved from 0.10817 to 0.10502, saving model to C:\\Users\\markz\\OneDrive\\Documents.\\logs\\scalars\\1500_8_20_22_20200723-200535\n",
      "INFO:tensorflow:Assets written to: C:\\Users\\markz\\OneDrive\\Documents.\\logs\\scalars\\1500_8_20_22_20200723-200535\\assets\n",
      "49347297/49347297 - 213s - loss: 0.1050 - mse: 0.1050 - mae: 0.1390 - mean_absolute_percentage_error: 14.4741 - val_loss: 0.0726 - val_mse: 0.0726 - val_mae: 0.1207 - val_mean_absolute_percentage_error: 10.9879\n",
      "Epoch 3/22\n",
      "\n",
      "Epoch 00003: mse improved from 0.10502 to 0.10410, saving model to C:\\Users\\markz\\OneDrive\\Documents.\\logs\\scalars\\1500_8_20_22_20200723-200535\n",
      "INFO:tensorflow:Assets written to: C:\\Users\\markz\\OneDrive\\Documents.\\logs\\scalars\\1500_8_20_22_20200723-200535\\assets\n",
      "49347297/49347297 - 654s - loss: 0.1041 - mse: 0.1041 - mae: 0.1387 - mean_absolute_percentage_error: 13.7384 - val_loss: 0.3459 - val_mse: 0.3459 - val_mae: 0.2017 - val_mean_absolute_percentage_error: 13.2615\n",
      "Epoch 4/22\n",
      "\n",
      "Epoch 00004: mse did not improve from 0.10410\n",
      "49347297/49347297 - 210s - loss: 0.1042 - mse: 0.1042 - mae: 0.1374 - mean_absolute_percentage_error: 13.3525 - val_loss: 0.2502 - val_mse: 0.2502 - val_mae: 0.2289 - val_mean_absolute_percentage_error: 18.4475\n",
      "Epoch 5/22\n",
      "\n",
      "Epoch 00005: mse improved from 0.10410 to 0.09849, saving model to C:\\Users\\markz\\OneDrive\\Documents.\\logs\\scalars\\1500_8_20_22_20200723-200535\n",
      "INFO:tensorflow:Assets written to: C:\\Users\\markz\\OneDrive\\Documents.\\logs\\scalars\\1500_8_20_22_20200723-200535\\assets\n",
      "49347297/49347297 - 210s - loss: 0.0985 - mse: 0.0985 - mae: 0.1352 - mean_absolute_percentage_error: 13.1255 - val_loss: 0.0433 - val_mse: 0.0433 - val_mae: 0.1012 - val_mean_absolute_percentage_error: 8.9826\n",
      "Epoch 6/22\n",
      "\n",
      "Epoch 00006: mse did not improve from 0.09849\n",
      "49347297/49347297 - 212s - loss: 0.1023 - mse: 0.1023 - mae: 0.1363 - mean_absolute_percentage_error: 14.7776 - val_loss: 0.1096 - val_mse: 0.1096 - val_mae: 0.1435 - val_mean_absolute_percentage_error: 12.5526\n",
      "Epoch 7/22\n",
      "\n",
      "Epoch 00007: mse did not improve from 0.09849\n",
      "49347297/49347297 - 211s - loss: 0.1035 - mse: 0.1035 - mae: 0.1365 - mean_absolute_percentage_error: 15.3075 - val_loss: 0.1086 - val_mse: 0.1086 - val_mae: 0.1347 - val_mean_absolute_percentage_error: 10.9053\n",
      "Epoch 8/22\n",
      "\n",
      "Epoch 00008: mse improved from 0.09849 to 0.09819, saving model to C:\\Users\\markz\\OneDrive\\Documents.\\logs\\scalars\\1500_8_20_22_20200723-200535\n",
      "INFO:tensorflow:Assets written to: C:\\Users\\markz\\OneDrive\\Documents.\\logs\\scalars\\1500_8_20_22_20200723-200535\\assets\n",
      "49347297/49347297 - 212s - loss: 0.0982 - mse: 0.0982 - mae: 0.1345 - mean_absolute_percentage_error: 13.5090 - val_loss: 0.0457 - val_mse: 0.0457 - val_mae: 0.0956 - val_mean_absolute_percentage_error: 8.8415\n",
      "INFO:tensorflow:Assets written to: C:\\Users\\markz\\OneDrive\\Documents.\\logs\\scalars\\1500_8_20_22_20200723-200535.\\1500_8_20_22_20200723-204120\\assets\n",
      "Ended at 2020-07-23 20:41:22.693583\n",
      "end\n"
     ]
    }
   ],
   "source": [
    "# Train\n",
    "batch_size = 1500\n",
    "n_layers = 8\n",
    "n_nodes = 20\n",
    "epochs = 22\n",
    "\n",
    "tr.train_model(batch_size, n_layers, n_nodes, epochs, log_save_dir)"
   ]
  },
  {
   "cell_type": "code",
   "execution_count": null,
   "metadata": {},
   "outputs": [],
   "source": []
  }
 ],
 "metadata": {
  "kernelspec": {
   "display_name": "condaenv",
   "language": "python",
   "name": "condaenv"
  },
  "language_info": {
   "codemirror_mode": {
    "name": "ipython",
    "version": 3
   },
   "file_extension": ".py",
   "mimetype": "text/x-python",
   "name": "python",
   "nbconvert_exporter": "python",
   "pygments_lexer": "ipython3",
   "version": "3.7.7"
  }
 },
 "nbformat": 4,
 "nbformat_minor": 4
}
