{
 "cells": [
  {
   "cell_type": "markdown",
   "metadata": {},
   "source": [
    "# Train for Monahans Clearfork\n",
    "Start on 17 December 2020\n",
    "\n",
    "Training components of the Monahas Clearfork data, generated with random simplex method.  \n",
    "Training data from PycharmProjectsLn_phi_modelData_generationSimplex_gen, simple_data_gen.py.  \n",
    "\n",
    "Settings were\n",
    "\n",
    "    T = 549.67 # R, 90 \n",
    "    P_min = 1000 # [psia]\n",
    "    P_max = 2000\n",
    "    num_P = 100\n",
    "\n",
    "    T_min = T\n",
    "    T_max = T\n",
    "    num_T = 1\n",
    "\n",
    "    num_x = 10000\n",
    "\n"
   ]
  },
  {
   "cell_type": "markdown",
   "metadata": {},
   "source": [
    "Training sequence:\n"
   ]
  },
  {
   "cell_type": "markdown",
   "metadata": {},
   "source": [
    "\n"
   ]
  }
 ],
 "metadata": {
  "kernelspec": {
   "display_name": "gputest",
   "language": "python",
   "name": "gputest"
  },
  "language_info": {
   "codemirror_mode": {
    "name": "ipython",
    "version": 3
   },
   "file_extension": ".py",
   "mimetype": "text/x-python",
   "name": "python",
   "nbconvert_exporter": "python",
   "pygments_lexer": "ipython3",
   "version": "3.7.7"
  }
 },
 "nbformat": 4,
 "nbformat_minor": 4
}
