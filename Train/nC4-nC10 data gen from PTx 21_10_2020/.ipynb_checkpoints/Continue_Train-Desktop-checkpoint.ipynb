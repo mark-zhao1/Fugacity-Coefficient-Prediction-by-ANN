{
 "cells": [
  {
   "cell_type": "code",
   "execution_count": null,
   "metadata": {},
   "outputs": [],
   "source": [
    "import os\n",
    "import pandas as pd\n",
    "import tensorflow as tf\n",
    "import subprocess\n",
    "import pickle\n",
    "import datetime\n",
    "import matplotlib.pyplot as plt\n",
    "from tensorflow import keras\n",
    "from sklearn.model_selection import train_test_split\n",
    "from sklearn.pipeline import Pipeline\n",
    "from sklearn.preprocessing import MinMaxScaler\n",
    "from sklearn.compose import ColumnTransformer\n",
    "from train import train_lnphi\n"
   ]
  },
  {
   "cell_type": "code",
   "execution_count": null,
   "metadata": {},
   "outputs": [],
   "source": [
    "'''\n",
    "# P range [10,30], T range [620, 650], x_nC4 range [0,1]\n",
    "See data_gen_from_PTx.py\n",
    "'''\n",
    "\n",
    "# Load and prepare training data\n",
    "LNPHI_PATH = r\"E:\\Datasets\"\n",
    "datafile_name = r\"nC4_data_nC4-nC10_T300-650_P5-400_x0-1_20200906-225737.csv\" #nC4_data_nC4-nC10_PTx_range_20200821-194011.csv\n",
    "# nC10_data_nC4-nC10_PTx_range_20200822-113453.csv\n",
    "log_save_dir = r\"C:\\Users\\win7\\Desktop\\logs\"\n",
    "\n",
    "tr = train_lnphi()\n",
    "tr.load_lnphi_data(LNPHI_PATH, datafile_name)\n",
    "#tr.lnphi_range(-10, 10)\n",
    "tr.split_data()\n",
    "tr.feature_eng()"
   ]
  },
  {
   "cell_type": "code",
   "execution_count": null,
   "metadata": {},
   "outputs": [],
   "source": [
    "list(tr.X_train)"
   ]
  },
  {
   "cell_type": "code",
   "execution_count": null,
   "metadata": {},
   "outputs": [],
   "source": [
    "tr.lnphi['lnphi'].hist(bins=50, figsize=(10,10))\n",
    "plt.show()"
   ]
  },
  {
   "cell_type": "code",
   "execution_count": null,
   "metadata": {},
   "outputs": [],
   "source": [
    "tr.lnphi['lnphi'].describe()"
   ]
  },
  {
   "cell_type": "code",
   "execution_count": null,
   "metadata": {},
   "outputs": [],
   "source": [
    "# Note: Histogram may have empty bins. This is an effect of bin resolution, and does not necessarily mean\n",
    "# the distribution has a gap.\n",
    "import matplotlib.pyplot as plt\n",
    "d = pd.DataFrame(tr.X_train, columns=list(tr.X_train))\n",
    "d.hist(bins=100, figsize=(20,15))\n",
    "plt.show()"
   ]
  },
  {
   "cell_type": "code",
   "execution_count": null,
   "metadata": {},
   "outputs": [],
   "source": [
    "d.describe()"
   ]
  },
  {
   "cell_type": "code",
   "execution_count": null,
   "metadata": {},
   "outputs": [],
   "source": [
    "import matplotlib.pyplot as plt\n",
    "d2 = pd.DataFrame(tr.X_train_prepared, columns=list(tr.X_train))\n",
    "d2.hist(bins=50, figsize=(20,15))\n",
    "plt.show()"
   ]
  },
  {
   "cell_type": "code",
   "execution_count": null,
   "metadata": {},
   "outputs": [],
   "source": [
    "'''d2.describe()'''"
   ]
  },
  {
   "cell_type": "code",
   "execution_count": null,
   "metadata": {},
   "outputs": [],
   "source": [
    "\n",
    "d3 = pd.DataFrame(tr.y_train_prepared)\n",
    "d3.hist(bins=500, figsize=(20,15))\n",
    "plt.show()"
   ]
  },
  {
   "cell_type": "code",
   "execution_count": null,
   "metadata": {},
   "outputs": [],
   "source": [
    "d3.describe()"
   ]
  },
  {
   "cell_type": "code",
   "execution_count": null,
   "metadata": {},
   "outputs": [],
   "source": []
  },
  {
   "cell_type": "code",
   "execution_count": null,
   "metadata": {},
   "outputs": [],
   "source": [
    "'''# Load model\n",
    "tr.model = tf.keras.models.load_model(\n",
    "    r'C:\\Users\\win7\\Desktop\\logs\\logs\\scalars\\norm_all_512_3_40_50_20200808-144642\\norm_all_4096_3_40_250_20200810-195701')\n",
    "# Give existing log directory\n",
    "tr.logdir = r'C:\\Users\\win7\\Desktop\\logs\\logs\\scalars\\norm_all_512_3_40_50_20200808-144642'\n",
    "tr.model.summary()'''\n"
   ]
  },
  {
   "cell_type": "code",
   "execution_count": null,
   "metadata": {},
   "outputs": [],
   "source": [
    "# Train\n",
    "name_prefix = 'lnphi_nC10_T620-650_P10-30'\n",
    "batch_size = 512\n",
    "n_layers = 4\n",
    "n_nodes = 20\n",
    "epochs = 300\n",
    "initial_epoch = 199 # 0 if new model\n",
    "\n",
    "#tr.model_construct(n_layers, n_nodes)\n",
    "#tr.logdir = r'C:\\Users\\win7\\Desktop\\logs\\logs\\scalars\\Liquid_Root__512_3_40_50_20200820-135819'\n",
    "tr.train_model(batch_size, n_layers, n_nodes, epochs, initial_epoch, log_save_dir, name_prefix)"
   ]
  },
  {
   "cell_type": "code",
   "execution_count": null,
   "metadata": {},
   "outputs": [],
   "source": [
    "tr.logdir"
   ]
  },
  {
   "cell_type": "code",
   "execution_count": null,
   "metadata": {},
   "outputs": [],
   "source": []
  }
 ],
 "metadata": {
  "kernelspec": {
   "display_name": "condaenv",
   "language": "python",
   "name": "condaenv"
  },
  "language_info": {
   "codemirror_mode": {
    "name": "ipython",
    "version": 3
   },
   "file_extension": ".py",
   "mimetype": "text/x-python",
   "name": "python",
   "nbconvert_exporter": "python",
   "pygments_lexer": "ipython3",
   "version": "3.7.7"
  }
 },
 "nbformat": 4,
 "nbformat_minor": 4
}
