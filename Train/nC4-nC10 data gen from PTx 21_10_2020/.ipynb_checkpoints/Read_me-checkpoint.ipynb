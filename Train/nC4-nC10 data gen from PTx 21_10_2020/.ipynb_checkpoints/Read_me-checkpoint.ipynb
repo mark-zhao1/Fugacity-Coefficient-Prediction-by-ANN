{
 "cells": [
  {
   "cell_type": "markdown",
   "metadata": {},
   "source": [
    "# Train on larger P-T-x domain\n",
    "ANN model has MAE in order of 1E-4, which was tested in SA. Convergence of the stationarity equation residual was the same rate as EOS, but dropped sharply after 1E-7. See report of 2020-09-03 and 2020-09-05. This corresponds approximately to the maximum precision of float32. Therefore, consider to specify float64 training if required. How much extra time does this cost?  \n",
    "\n",
    "This test is to generate a model applicable near the phase envelope, to investigate the behavior there. This is a mandatory step before two-phase flash. New model was required, because the previous model's training data domain did not include near-phase boundary PTx conditions.\n",
    "\n",
    "Previous PTx domain was:  \n",
    "P = [10, 30] bar, 100  \n",
    "T = [620, 650] K, 100  \n",
    "x_nC4 = [0, 1], 100  \n",
    "\n",
    "Now:  \n",
    "P = [5, 400] bar, 1000  \n",
    "T = [300, 650] K, 1000  \n",
    "x_nC4 = [0, 1], 100  "
   ]
  },
  {
   "cell_type": "markdown",
   "metadata": {},
   "source": [
    "Training sequence:\n",
    "100 epochs at batch size 100\n",
    "100 epochs at batch size 256\n",
    "100 epochs at batch size 512\n",
    "Name of nC4 model was mistakenly written as nC10. nC4 is trained on desktop, while nC10 trained on laptop."
   ]
  },
  {
   "cell_type": "markdown",
   "metadata": {},
   "source": [
    "## Update\n",
    "P = [5, 100] bar, 1000  \n",
    "T = [300, 650] K, 1000  \n",
    "x_nC4 = [0, 1], 100 \n",
    "\n",
    "From Weekly Report 2020_09_10, the P range was large and cause very slow training. Since P range doesn't help phase split, reduce the P range."
   ]
  }
 ],
 "metadata": {
  "kernelspec": {
   "display_name": "condaenv",
   "language": "python",
   "name": "condaenv"
  },
  "language_info": {
   "codemirror_mode": {
    "name": "ipython",
    "version": 3
   },
   "file_extension": ".py",
   "mimetype": "text/x-python",
   "name": "python",
   "nbconvert_exporter": "python",
   "pygments_lexer": "ipython3",
   "version": "3.7.7"
  }
 },
 "nbformat": 4,
 "nbformat_minor": 4
}
